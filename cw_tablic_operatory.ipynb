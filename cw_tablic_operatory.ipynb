{
 "cells": [
  {
   "cell_type": "code",
   "execution_count": 6,
   "metadata": {},
   "outputs": [
    {
     "name": "stdout",
     "output_type": "stream",
     "text": [
      "[1, 2, 3]\n",
      "['witaj', 'swiecie']\n",
      "Drugim imieniem w tablicy jest Edward.\n"
     ]
    }
   ],
   "source": [
    "liczby = []\n",
    "napisy = []\n",
    "imiona = [\"Jan\", \"Edward\", \"Joanna\"]\n",
    "liczby.append(1)\n",
    "liczby.append(2)\n",
    "liczby.append(3)\n",
    "napisy.append(\"witaj\")\n",
    "napisy.append(\"swiecie\")\n",
    "\n",
    "# Tu umiesc swoj kod\n",
    "drugie_imie = imiona[1]\n",
    "\n",
    "\n",
    "# Ten fragment kodu wypisze wypelnione przez ciebie\n",
    "# tablice oraz drugie imie w tablicy imion (Edward).\n",
    "print (liczby)\n",
    "print (napisy)\n",
    "print (\"Drugim imieniem w tablicy jest %s.\" % drugie_imie)"
   ]
  },
  {
   "cell_type": "code",
   "execution_count": 9,
   "metadata": {},
   "outputs": [
    {
     "name": "stdout",
     "output_type": "stream",
     "text": [
      "x_tab zawiera 10 obiektow\n",
      "y_tab zawiera 10 obiektow\n",
      "duza_tab zawiera 20 obiektow\n"
     ]
    }
   ],
   "source": [
    "x = object()\n",
    "y = object()\n",
    "\n",
    "# zmien ten kod\n",
    "x_tab = [1,2,3,4,5,6,7,8,9,10]\n",
    "y_tab = [10,9,8,7,6,5,4,3,2,1]\n",
    "duza_tab = x_tab + y_tab\n",
    "\n",
    "print (\"x_tab zawiera %d obiektow\" % len(x_tab))\n",
    "print (\"y_tab zawiera %d obiektow\" % len(y_tab))\n",
    "print (\"duza_tab zawiera %d obiektow\" % len(duza_tab))\n",
    "\n",
    "# sprawdzenie poprawnosci\n",
    "if x_tab.count(x) == 10 and y_tab.count(y) == 10:\n",
    "    print (\"Prawie zrobione...\")\n",
    "if duza_tab.count(x) == 10 and duza_tab.count(y) == 10:\n",
    "    print (\"Doskonale!\")"
   ]
  },
  {
   "cell_type": "code",
   "execution_count": 11,
   "metadata": {},
   "outputs": [
    {
     "name": "stdout",
     "output_type": "stream",
     "text": [
      "Czesc Jacek i Darek temperatura na zewnatrz to 44 stopni Celcjusza\n"
     ]
    }
   ],
   "source": [
    "dane = (\"Jacek\", \"Darek\", 44.4)\n",
    "formatowany_napis = \"Czesc\"\n",
    "\n",
    "print (\"Czesc %s i %s temperatura na zewnatrz to %d stopni Celcjusza\" % dane)"
   ]
  },
  {
   "cell_type": "code",
   "execution_count": 13,
   "metadata": {
    "scrolled": true
   },
   "outputs": [
    {
     "name": "stdout",
     "output_type": "stream",
     "text": [
      "1\n",
      "2\n",
      "3\n",
      "4\n",
      "5\n",
      "6\n"
     ]
    }
   ],
   "source": [
    "# Zmien ponizszy kod\n",
    "liczba = 16\n",
    "druga_liczba = 0\n",
    "pierwsza_tablica = [1,2,3]\n",
    "druga_tablica = [1,2]\n",
    "\n",
    "if liczba > 15:\n",
    "    print (\"1\")\n",
    "\n",
    "if pierwsza_tablica:\n",
    "    print (\"2\")\n",
    "\n",
    "if len(druga_tablica) == 2:\n",
    "    print (\"3\")\n",
    "\n",
    "if len(pierwsza_tablica) + len(druga_tablica) == 5:\n",
    "    print (\"4\")\n",
    "\n",
    "if pierwsza_tablica and pierwsza_tablica[0] == 1:\n",
    "    print (\"5\")\n",
    "\n",
    "if not druga_liczba:\n",
    "    print (\"6\")"
   ]
  },
  {
   "cell_type": "code",
   "execution_count": 18,
   "metadata": {
    "collapsed": true
   },
   "outputs": [
    {
     "name": "stdout",
     "output_type": "stream",
     "text": [
      "1\n",
      "2\n",
      "3\n",
      "4\n",
      "5\n",
      "6\n",
      "7\n",
      "8\n"
     ]
    }
   ],
   "source": []
  },
  {
   "cell_type": "code",
   "execution_count": null,
   "metadata": {},
   "outputs": [],
   "source": []
  }
 ],
 "metadata": {
  "kernelspec": {
   "display_name": "Python 3",
   "language": "python",
   "name": "python3"
  },
  "language_info": {
   "codemirror_mode": {
    "name": "ipython",
    "version": 3
   },
   "file_extension": ".py",
   "mimetype": "text/x-python",
   "name": "python",
   "nbconvert_exporter": "python",
   "pygments_lexer": "ipython3",
   "version": "3.7.4"
  }
 },
 "nbformat": 4,
 "nbformat_minor": 2
}
